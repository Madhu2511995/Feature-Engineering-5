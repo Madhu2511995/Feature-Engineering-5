{
 "cells": [
  {
   "cell_type": "markdown",
   "id": "1d462312-35a0-408c-b399-0507d647d63f",
   "metadata": {},
   "source": [
    "### Q1. What is the difference between Ordinal Encoding and Label Encoding? Provide an example of when you might choose one over the other.\n",
    "\n",
    "### Q2. Explain how Target Guided Ordinal Encoding works and provide an example of when you might use it in a machine learning project.\n",
    "\n",
    "### Q3. Define covariance and explain why it is important in statistical analysis. How is covariance calculated?\n",
    "\n",
    "### Q4. For a dataset with the following categorical variables: Color (red, green, blue), Size (small, medium,large), and Material (wood, metal, plastic), perform label encoding using Python's scikit-learn library.Show your code and explain the output.\n",
    "\n",
    "### Q5. Calculate the covariance matrix for the following variables in a dataset: Age, Income, and Education level. Interpret the results.\n",
    "\n",
    "### Q6. You are working on a machine learning project with a dataset containing several categorical variables, including \"Gender\" (Male/Female), \"Education Level\" (High School/Bachelor's/Master's/PhD), and \"Employment Status\" (Unemployed/Part-Time/Full-Time). Which encoding method would you use for each variable, and why?\n",
    "\n",
    "### Q7. You are analyzing a dataset with two continuous variables, \"Temperature\" and \"Humidity\", and two categorical variables, \"Weather Condition\" (Sunny/Cloudy/Rainy) and \"Wind Direction\" (North/South/ East/West). Calculate the covariance between each pair of variables and interpret the results."
   ]
  },
  {
   "cell_type": "markdown",
   "id": "4017ef61-b0d2-4afb-8f9e-4cee8e4e6672",
   "metadata": {},
   "source": [
    "## Answers"
   ]
  },
  {
   "cell_type": "markdown",
   "id": "0a72311f-5c8c-452d-8037-9d4f09592e3c",
   "metadata": {},
   "source": [
    "### Q1. What is the difference between Ordinal Encoding and Label Encoding? Provide an example of when you might choose one over the other"
   ]
  },
  {
   "cell_type": "markdown",
   "id": "59b2eab2-642a-4302-ab6f-8818ad83c97d",
   "metadata": {},
   "source": [
    "### Label Encoding:\n",
    "\n",
    "- Label Encoding assigns a unique integer to each category in a categorical variable.\n",
    "- It is suitable for nominal categorical variables where there is no inherent order or ranking among the categories.\n",
    "- The encoded integers might inadvertently introduce an ordinal relationship that doesn't exist in the original data.\n",
    "- It's a simple technique and can be useful when you're dealing with categorical features that are not expected to have any meaningful ordinal relationships.\n",
    "\n",
    "#### Example:\n",
    "Suppose you have a dataset with a \"Size\" column indicating the size of clothing items: \"Small,\" \"Medium,\" and \"Large.\" You can use Label Encoding to assign numerical values like 0, 1, and 2 to the categories. However, this could imply an order that might not make sense in all scenarios (e.g., Small < Medium < Large).\n",
    "\n",
    "### Ordinal Encoding:\n",
    "\n",
    "- Ordinal Encoding assigns numerical values to categorical variables based on a defined order or ranking.\n",
    "- It is appropriate for ordinal categorical variables, where categories have a clear order or hierarchy.\n",
    "- It preserves the ordinal relationships between categories by assigning values in accordance with their positions in the order.\n",
    "- It can be useful when you're dealing with features that have a clear rank, such as \"Low,\" \"Medium,\" and \"High\" or \"Beginner,\" \"Intermediate,\" and \"Advanced.\"\n",
    "\n",
    "#### Example:\n",
    "Consider a dataset with an \"Education Level\" column: \"High School,\" \"Bachelor's,\" \"Master's,\" and \"Ph.D.\" In this case, you could use Ordinal Encoding to assign values like 1, 2, 3, and 4 to represent the educational hierarchy.\n"
   ]
  },
  {
   "cell_type": "markdown",
   "id": "e5580692-cbab-4de1-bddb-88e8fe7bd419",
   "metadata": {},
   "source": [
    "### Q2. Explain how Target Guided Ordinal Encoding works and provide an example of when you might use it in a machine learning project."
   ]
  },
  {
   "cell_type": "markdown",
   "id": "e973e509-7b2c-4905-b0f5-864912ccae9d",
   "metadata": {},
   "source": [
    "#### Target Guided Ordinal:\n",
    "Encoding is a technique used to encode categorical variables based on the relationship between the categories and the target variable in a way that preserves the information about the target variable while converting categorical data into numerical format. This technique is particularly useful when dealing with ordinal categorical variables, where categories have a clear order or hierarchy, and you want to capture the ordinal relationship in the encoding.\n",
    "\n",
    "#### Example:\n",
    "Suppose you're working on a project to predict whether a bank loan application will be approved. One of the features is \"Credit Score Range,\" which indicates the range of the applicant's credit score. You want to encode this feature using Target Guided Ordinal Encoding.\n",
    "\n",
    "Here's how you might proceed:\n",
    "\n",
    "Calculate the mean approval rate for each credit score range:\n",
    "\n",
    "Credit Score Range: 600-650, Mean Approval Rate: 0.25\n",
    "Credit Score Range: 651-700, Mean Approval Rate: 0.45\n",
    "Credit Score Range: 701-750, Mean Approval Rate: 0.60\n",
    "Credit Score Range: 751-800, Mean Approval Rate: 0.75\n",
    "Order the credit score ranges based on mean approval rate:\n",
    "\n",
    "Credit Score Range: 600-650\n",
    "Credit Score Range: 651-700\n",
    "Credit Score Range: 701-750\n",
    "Credit Score Range: 751-800\n",
    "Assign ordinal values based on the order:\n",
    "\n",
    "Credit Score Range: 600-650 - Ordinal Value: 1\n",
    "Credit Score Range: 651-700 - Ordinal Value: 2\n",
    "Credit Score Range: 701-750 - Ordinal Value: 3\n",
    "Credit Score Range: 751-800 - Ordinal Value: 4\n",
    "In this way, you've encoded the \"Credit Score Range\" feature using Target Guided Ordinal Encoding, which captures the relationship between credit score ranges and the likelihood of loan approval.\n"
   ]
  },
  {
   "cell_type": "markdown",
   "id": "88251cde-75d4-4b3e-ab33-389c7ddcdfab",
   "metadata": {},
   "source": [
    "### Q3. Define covariance and explain why it is important in statistical analysis. How is covariance calculated?\n"
   ]
  },
  {
   "cell_type": "markdown",
   "id": "4a8cb8cc-30b9-4492-8acf-1ff8e0011b05",
   "metadata": {},
   "source": [
    "#### Covariance: \n",
    "Covariance is a statistical concept that measures the degree to which two random variables change together. It quantifies the direction of the linear relationship between two variables. \n",
    "\n",
    "#### Importance:\n",
    "- Covariance provides insights into how two variables vary together. It helps you understand whether changes in one variable are associated with changes in another and in what direction.\n",
    "- In machine learning and regression analysis, understanding the covariance between features (independent variables) and the target variable (dependent variable) helps in feature selection. Features with higher covariance with the target may have stronger predictive power."
   ]
  },
  {
   "cell_type": "code",
   "execution_count": 10,
   "id": "985a9093-57aa-436e-a0c5-ee3f7c4f49c0",
   "metadata": {},
   "outputs": [
    {
     "data": {
      "text/html": [
       "<div>\n",
       "<style scoped>\n",
       "    .dataframe tbody tr th:only-of-type {\n",
       "        vertical-align: middle;\n",
       "    }\n",
       "\n",
       "    .dataframe tbody tr th {\n",
       "        vertical-align: top;\n",
       "    }\n",
       "\n",
       "    .dataframe thead th {\n",
       "        text-align: right;\n",
       "    }\n",
       "</style>\n",
       "<table border=\"1\" class=\"dataframe\">\n",
       "  <thead>\n",
       "    <tr style=\"text-align: right;\">\n",
       "      <th></th>\n",
       "      <th>Year</th>\n",
       "      <th>Country</th>\n",
       "      <th>Spending_USD</th>\n",
       "      <th>Life_Expectancy</th>\n",
       "    </tr>\n",
       "  </thead>\n",
       "  <tbody>\n",
       "    <tr>\n",
       "      <th>0</th>\n",
       "      <td>1970</td>\n",
       "      <td>Germany</td>\n",
       "      <td>252.311</td>\n",
       "      <td>70.6</td>\n",
       "    </tr>\n",
       "    <tr>\n",
       "      <th>1</th>\n",
       "      <td>1970</td>\n",
       "      <td>France</td>\n",
       "      <td>192.143</td>\n",
       "      <td>72.2</td>\n",
       "    </tr>\n",
       "    <tr>\n",
       "      <th>2</th>\n",
       "      <td>1970</td>\n",
       "      <td>Great Britain</td>\n",
       "      <td>123.993</td>\n",
       "      <td>71.9</td>\n",
       "    </tr>\n",
       "    <tr>\n",
       "      <th>3</th>\n",
       "      <td>1970</td>\n",
       "      <td>Japan</td>\n",
       "      <td>150.437</td>\n",
       "      <td>72.0</td>\n",
       "    </tr>\n",
       "    <tr>\n",
       "      <th>4</th>\n",
       "      <td>1970</td>\n",
       "      <td>USA</td>\n",
       "      <td>326.961</td>\n",
       "      <td>70.9</td>\n",
       "    </tr>\n",
       "  </tbody>\n",
       "</table>\n",
       "</div>"
      ],
      "text/plain": [
       "   Year        Country  Spending_USD  Life_Expectancy\n",
       "0  1970        Germany       252.311             70.6\n",
       "1  1970         France       192.143             72.2\n",
       "2  1970  Great Britain       123.993             71.9\n",
       "3  1970          Japan       150.437             72.0\n",
       "4  1970            USA       326.961             70.9"
      ]
     },
     "execution_count": 10,
     "metadata": {},
     "output_type": "execute_result"
    }
   ],
   "source": [
    "import seaborn as sns\n",
    "df=sns.load_dataset('healthexp')\n",
    "df.head()"
   ]
  },
  {
   "cell_type": "code",
   "execution_count": 11,
   "id": "eb0b0dc5-7f7e-4ea2-ae88-043ba60f729f",
   "metadata": {},
   "outputs": [
    {
     "name": "stderr",
     "output_type": "stream",
     "text": [
      "/tmp/ipykernel_2267/1545644723.py:1: FutureWarning: The default value of numeric_only in DataFrame.cov is deprecated. In a future version, it will default to False. Select only valid columns or specify the value of numeric_only to silence this warning.\n",
      "  df.cov()\n"
     ]
    },
    {
     "data": {
      "text/html": [
       "<div>\n",
       "<style scoped>\n",
       "    .dataframe tbody tr th:only-of-type {\n",
       "        vertical-align: middle;\n",
       "    }\n",
       "\n",
       "    .dataframe tbody tr th {\n",
       "        vertical-align: top;\n",
       "    }\n",
       "\n",
       "    .dataframe thead th {\n",
       "        text-align: right;\n",
       "    }\n",
       "</style>\n",
       "<table border=\"1\" class=\"dataframe\">\n",
       "  <thead>\n",
       "    <tr style=\"text-align: right;\">\n",
       "      <th></th>\n",
       "      <th>Year</th>\n",
       "      <th>Spending_USD</th>\n",
       "      <th>Life_Expectancy</th>\n",
       "    </tr>\n",
       "  </thead>\n",
       "  <tbody>\n",
       "    <tr>\n",
       "      <th>Year</th>\n",
       "      <td>201.098848</td>\n",
       "      <td>2.571883e+04</td>\n",
       "      <td>41.915454</td>\n",
       "    </tr>\n",
       "    <tr>\n",
       "      <th>Spending_USD</th>\n",
       "      <td>25718.827373</td>\n",
       "      <td>4.817761e+06</td>\n",
       "      <td>4166.800912</td>\n",
       "    </tr>\n",
       "    <tr>\n",
       "      <th>Life_Expectancy</th>\n",
       "      <td>41.915454</td>\n",
       "      <td>4.166801e+03</td>\n",
       "      <td>10.733902</td>\n",
       "    </tr>\n",
       "  </tbody>\n",
       "</table>\n",
       "</div>"
      ],
      "text/plain": [
       "                         Year  Spending_USD  Life_Expectancy\n",
       "Year               201.098848  2.571883e+04        41.915454\n",
       "Spending_USD     25718.827373  4.817761e+06      4166.800912\n",
       "Life_Expectancy     41.915454  4.166801e+03        10.733902"
      ]
     },
     "execution_count": 11,
     "metadata": {},
     "output_type": "execute_result"
    }
   ],
   "source": [
    "df.cov()"
   ]
  },
  {
   "cell_type": "markdown",
   "id": "f49a7403-fcb4-4abc-916d-613e0878f240",
   "metadata": {},
   "source": [
    "### Q4. For a dataset with the following categorical variables: Color (red, green, blue), Size (small, medium,large), and Material (wood, metal, plastic), perform label encoding using Python's scikit-learn library.Show your code and explain the output."
   ]
  },
  {
   "cell_type": "code",
   "execution_count": 1,
   "id": "6f76244a-bd77-46a5-8f51-cc6a8188b094",
   "metadata": {},
   "outputs": [],
   "source": [
    "import pandas as pd\n",
    "import numpy as np\n",
    "from sklearn.preprocessing import LabelEncoder"
   ]
  },
  {
   "cell_type": "code",
   "execution_count": 6,
   "id": "47076373-d644-4638-ab80-53cda66dc405",
   "metadata": {},
   "outputs": [],
   "source": [
    "df=pd.DataFrame({\"color\":[\"red\",\"blue\",\"green\",\"green\",\"blue\"]})"
   ]
  },
  {
   "cell_type": "code",
   "execution_count": 3,
   "id": "e3e61847-7d61-40db-b9bf-3d2d2b5c4adf",
   "metadata": {},
   "outputs": [
    {
     "data": {
      "text/plain": [
       "array([2, 0, 1, 1, 0])"
      ]
     },
     "execution_count": 3,
     "metadata": {},
     "output_type": "execute_result"
    }
   ],
   "source": [
    "encoder=LabelEncoder()\n",
    "encoder.fit_transform(df['color'])"
   ]
  },
  {
   "cell_type": "markdown",
   "id": "ff17f0ae-e911-437d-8935-5c0b18989c64",
   "metadata": {},
   "source": [
    "In the above case we use the label encoder beacuse there is no order or ranking in the variable. "
   ]
  },
  {
   "cell_type": "code",
   "execution_count": 4,
   "id": "27ec096d-b985-4538-a3af-c59e0e1ec9b1",
   "metadata": {},
   "outputs": [],
   "source": [
    "from sklearn.preprocessing import OrdinalEncoder\n",
    "df=pd.DataFrame({\"Size\":[\"small\",\"medimum\",\"large\",\"medimum\",\"small\",\"large\"]})"
   ]
  },
  {
   "cell_type": "code",
   "execution_count": 5,
   "id": "f4f6c551-7dbc-4bb6-9506-09ee0b9993fd",
   "metadata": {},
   "outputs": [
    {
     "data": {
      "text/plain": [
       "array([[0.],\n",
       "       [1.],\n",
       "       [2.],\n",
       "       [1.],\n",
       "       [0.],\n",
       "       [2.]])"
      ]
     },
     "execution_count": 5,
     "metadata": {},
     "output_type": "execute_result"
    }
   ],
   "source": [
    "rank=OrdinalEncoder(categories=[[\"small\",'medimum','large']])\n",
    "rank.fit_transform(df[['Size']])"
   ]
  },
  {
   "cell_type": "markdown",
   "id": "64ec257e-64ce-4da8-b5cc-4bf39569a95d",
   "metadata": {},
   "source": [
    "In the above case we use the Ordinal encoder beacuse there is order or ranking in the variable."
   ]
  },
  {
   "cell_type": "code",
   "execution_count": 7,
   "id": "e6c58296-7892-45c7-aeaf-ad3bd19345c6",
   "metadata": {},
   "outputs": [],
   "source": [
    "df=pd.DataFrame({\"Material\":[\"wood\",\"metal\",\"plastic\",\"metal\",\"plastic\",\"plastic\"]})"
   ]
  },
  {
   "cell_type": "code",
   "execution_count": 8,
   "id": "47c4e00b-1bfd-47ff-a9ff-5c420501c2d8",
   "metadata": {},
   "outputs": [
    {
     "data": {
      "text/plain": [
       "array([[0.],\n",
       "       [1.],\n",
       "       [2.],\n",
       "       [1.],\n",
       "       [2.],\n",
       "       [2.]])"
      ]
     },
     "execution_count": 8,
     "metadata": {},
     "output_type": "execute_result"
    }
   ],
   "source": [
    "encoder=OrdinalEncoder(categories=[[\"wood\",\"metal\",\"plastic\"]])\n",
    "encoder.fit_transform(df[['Material']])"
   ]
  },
  {
   "cell_type": "markdown",
   "id": "8946d001-746e-4cb6-9123-041b78e1873e",
   "metadata": {},
   "source": [
    "In the above case we use the Ordinal encoder beacuse there is order or ranking in the variable."
   ]
  },
  {
   "cell_type": "markdown",
   "id": "9ffa6b25-bd99-411b-9b4f-8a7067881331",
   "metadata": {},
   "source": [
    "### Q5. Calculate the covariance matrix for the following variables in a dataset: Age, Income, and Education level. Interpret the results.\n"
   ]
  },
  {
   "cell_type": "code",
   "execution_count": 14,
   "id": "b09e620e-8454-45c5-8785-6691e2595f53",
   "metadata": {},
   "outputs": [],
   "source": [
    "import pandas as pd"
   ]
  },
  {
   "cell_type": "code",
   "execution_count": 16,
   "id": "5db8c713-7b1d-4eb6-b4ae-b1e21ed17831",
   "metadata": {},
   "outputs": [],
   "source": [
    "df=pd.DataFrame({\"Age\": [30, 40, 25, 35, 28],\n",
    "\"Income\": [50000, 60000, 45000, 55000, 48000],\n",
    "\"Education level\": [\"Bachelor's\", \"Master's\", \"Bachelor's\", \"PhD\", \"High School\"]})"
   ]
  },
  {
   "cell_type": "code",
   "execution_count": 17,
   "id": "468f33cc-aeb0-4b1f-a4c9-11e001332a5c",
   "metadata": {},
   "outputs": [
    {
     "name": "stderr",
     "output_type": "stream",
     "text": [
      "/tmp/ipykernel_2267/1545644723.py:1: FutureWarning: The default value of numeric_only in DataFrame.cov is deprecated. In a future version, it will default to False. Select only valid columns or specify the value of numeric_only to silence this warning.\n",
      "  df.cov()\n"
     ]
    },
    {
     "data": {
      "text/html": [
       "<div>\n",
       "<style scoped>\n",
       "    .dataframe tbody tr th:only-of-type {\n",
       "        vertical-align: middle;\n",
       "    }\n",
       "\n",
       "    .dataframe tbody tr th {\n",
       "        vertical-align: top;\n",
       "    }\n",
       "\n",
       "    .dataframe thead th {\n",
       "        text-align: right;\n",
       "    }\n",
       "</style>\n",
       "<table border=\"1\" class=\"dataframe\">\n",
       "  <thead>\n",
       "    <tr style=\"text-align: right;\">\n",
       "      <th></th>\n",
       "      <th>Age</th>\n",
       "      <th>Income</th>\n",
       "    </tr>\n",
       "  </thead>\n",
       "  <tbody>\n",
       "    <tr>\n",
       "      <th>Age</th>\n",
       "      <td>35.3</td>\n",
       "      <td>35300.0</td>\n",
       "    </tr>\n",
       "    <tr>\n",
       "      <th>Income</th>\n",
       "      <td>35300.0</td>\n",
       "      <td>35300000.0</td>\n",
       "    </tr>\n",
       "  </tbody>\n",
       "</table>\n",
       "</div>"
      ],
      "text/plain": [
       "            Age      Income\n",
       "Age        35.3     35300.0\n",
       "Income  35300.0  35300000.0"
      ]
     },
     "execution_count": 17,
     "metadata": {},
     "output_type": "execute_result"
    }
   ],
   "source": [
    "df.cov()"
   ]
  },
  {
   "cell_type": "markdown",
   "id": "12843cea-a508-4e79-a442-75122d7b4d24",
   "metadata": {},
   "source": [
    "### Q6. You are working on a machine learning project with a dataset containing several categorical variables, including \"Gender\" (Male/Female), \"Education Level\" (High School/Bachelor's/Master's/PhD), and \"Employment Status\" (Unemployed/Part-Time/Full-Time). Which encoding method would you use for each variable, and why?\n"
   ]
  },
  {
   "cell_type": "markdown",
   "id": "b9a80aec-6826-4063-a825-be44849f9a0c",
   "metadata": {},
   "source": [
    "#### Gender (Binary Categorical Variable):\n",
    "Since \"Gender\" has only two categories (Male/Female), it's a binary categorical variable. In this case, the most appropriate encoding method would be Label Encoding.\n",
    "\n",
    "####  Reasoning:\n",
    "Label Encoding assigns a numeric value (0 or 1) to each category, which is suitable for binary variables. It's a straightforward way to convert such data into numerical format without introducing any misleading ordinal relationships.\n",
    "\n",
    "#### Education Level (Ordinal Categorical Variable):\n",
    "\"Education Level\" is an ordinal categorical variable because the categories have a clear order or hierarchy (High School < Bachelor's < Master's < PhD). For such variables, Ordinal Encoding would be appropriate.\n",
    "\n",
    "#### Reasoning:\n",
    "Ordinal Encoding preserves the ordinal relationships between categories. It assigns numeric values based on the order of the categories, which is important in this case to capture the educational hierarchy.\n",
    "\n",
    "#### Employment Status (Nominal Categorical Variable):\n",
    "\"Employment Status\" is a nominal categorical variable, where there's no inherent order among the categories (Unemployed, Part-Time, Full-Time). For nominal variables, One-Hot Encoding is recommended.\n",
    "\n",
    "#### Reasoning:\n",
    "One-Hot Encoding creates separate binary columns for each category, ensuring that no numerical relationships or hierarchies are introduced. Since \"Employment Status\" is nominal, One-Hot Encoding is suitable to represent the different categories without implying any order.\n",
    "\n",
    "\n",
    "\n"
   ]
  },
  {
   "cell_type": "markdown",
   "id": "bf7918df-b5f0-44a9-8066-335f6929029b",
   "metadata": {},
   "source": [
    "### Q7. You are analyzing a dataset with two continuous variables, \"Temperature\" and \"Humidity\", and two categorical variables, \"Weather Condition\" (Sunny/Cloudy/Rainy) and \"Wind Direction\" (North/South/ East/West). Calculate the covariance between each pair of variables and interpret the results."
   ]
  },
  {
   "cell_type": "code",
   "execution_count": 19,
   "id": "f9fb7899-c781-4631-a8de-852baa1b53f3",
   "metadata": {},
   "outputs": [],
   "source": [
    "import pandas as pd"
   ]
  },
  {
   "cell_type": "code",
   "execution_count": 25,
   "id": "6dec7c9f-5690-49c7-b48c-5389ccd337ab",
   "metadata": {},
   "outputs": [],
   "source": [
    "df=pd.DataFrame({\"Temperature\": [25, 20, 22, 28, 24],\n",
    "\"Humidity\": [60, 75, 70, 50, 65],\n",
    "\"Weather Condition\": ['Sunny', 'Cloudy', \"Sunny\", 'Rainy', 'Cloudy'],\n",
    "\"Wind Direction\": ['North', 'South', 'East', 'West', 'North']})\n"
   ]
  },
  {
   "cell_type": "code",
   "execution_count": 26,
   "id": "b1f875a4-a985-46f2-bebf-1d21e51607ab",
   "metadata": {},
   "outputs": [
    {
     "data": {
      "text/html": [
       "<div>\n",
       "<style scoped>\n",
       "    .dataframe tbody tr th:only-of-type {\n",
       "        vertical-align: middle;\n",
       "    }\n",
       "\n",
       "    .dataframe tbody tr th {\n",
       "        vertical-align: top;\n",
       "    }\n",
       "\n",
       "    .dataframe thead th {\n",
       "        text-align: right;\n",
       "    }\n",
       "</style>\n",
       "<table border=\"1\" class=\"dataframe\">\n",
       "  <thead>\n",
       "    <tr style=\"text-align: right;\">\n",
       "      <th></th>\n",
       "      <th>Temperature</th>\n",
       "      <th>Humidity</th>\n",
       "      <th>Weather Condition</th>\n",
       "      <th>Wind Direction</th>\n",
       "    </tr>\n",
       "  </thead>\n",
       "  <tbody>\n",
       "    <tr>\n",
       "      <th>0</th>\n",
       "      <td>25</td>\n",
       "      <td>60</td>\n",
       "      <td>Sunny</td>\n",
       "      <td>North</td>\n",
       "    </tr>\n",
       "    <tr>\n",
       "      <th>1</th>\n",
       "      <td>20</td>\n",
       "      <td>75</td>\n",
       "      <td>Cloudy</td>\n",
       "      <td>South</td>\n",
       "    </tr>\n",
       "    <tr>\n",
       "      <th>2</th>\n",
       "      <td>22</td>\n",
       "      <td>70</td>\n",
       "      <td>Sunny</td>\n",
       "      <td>East</td>\n",
       "    </tr>\n",
       "    <tr>\n",
       "      <th>3</th>\n",
       "      <td>28</td>\n",
       "      <td>50</td>\n",
       "      <td>Rainy</td>\n",
       "      <td>West</td>\n",
       "    </tr>\n",
       "    <tr>\n",
       "      <th>4</th>\n",
       "      <td>24</td>\n",
       "      <td>65</td>\n",
       "      <td>Cloudy</td>\n",
       "      <td>North</td>\n",
       "    </tr>\n",
       "  </tbody>\n",
       "</table>\n",
       "</div>"
      ],
      "text/plain": [
       "   Temperature  Humidity Weather Condition Wind Direction\n",
       "0           25        60             Sunny          North\n",
       "1           20        75            Cloudy          South\n",
       "2           22        70             Sunny           East\n",
       "3           28        50             Rainy           West\n",
       "4           24        65            Cloudy          North"
      ]
     },
     "execution_count": 26,
     "metadata": {},
     "output_type": "execute_result"
    }
   ],
   "source": [
    "df.head()"
   ]
  },
  {
   "cell_type": "code",
   "execution_count": 23,
   "id": "6ef06e83-d3fa-4265-baea-196d1823ccbf",
   "metadata": {},
   "outputs": [],
   "source": [
    "from sklearn.preprocessing import LabelEncoder"
   ]
  },
  {
   "cell_type": "code",
   "execution_count": 33,
   "id": "a05ffc9d-f827-4814-9472-0423aef549fe",
   "metadata": {},
   "outputs": [
    {
     "name": "stderr",
     "output_type": "stream",
     "text": [
      "/opt/conda/lib/python3.10/site-packages/sklearn/preprocessing/_label.py:116: DataConversionWarning: A column-vector y was passed when a 1d array was expected. Please change the shape of y to (n_samples, ), for example using ravel().\n",
      "  y = column_or_1d(y, warn=True)\n"
     ]
    },
    {
     "data": {
      "text/html": [
       "<div>\n",
       "<style scoped>\n",
       "    .dataframe tbody tr th:only-of-type {\n",
       "        vertical-align: middle;\n",
       "    }\n",
       "\n",
       "    .dataframe tbody tr th {\n",
       "        vertical-align: top;\n",
       "    }\n",
       "\n",
       "    .dataframe thead th {\n",
       "        text-align: right;\n",
       "    }\n",
       "</style>\n",
       "<table border=\"1\" class=\"dataframe\">\n",
       "  <thead>\n",
       "    <tr style=\"text-align: right;\">\n",
       "      <th></th>\n",
       "      <th>Weather_Condition</th>\n",
       "    </tr>\n",
       "  </thead>\n",
       "  <tbody>\n",
       "    <tr>\n",
       "      <th>0</th>\n",
       "      <td>2</td>\n",
       "    </tr>\n",
       "    <tr>\n",
       "      <th>1</th>\n",
       "      <td>0</td>\n",
       "    </tr>\n",
       "    <tr>\n",
       "      <th>2</th>\n",
       "      <td>2</td>\n",
       "    </tr>\n",
       "    <tr>\n",
       "      <th>3</th>\n",
       "      <td>1</td>\n",
       "    </tr>\n",
       "    <tr>\n",
       "      <th>4</th>\n",
       "      <td>0</td>\n",
       "    </tr>\n",
       "  </tbody>\n",
       "</table>\n",
       "</div>"
      ],
      "text/plain": [
       "   Weather_Condition\n",
       "0                  2\n",
       "1                  0\n",
       "2                  2\n",
       "3                  1\n",
       "4                  0"
      ]
     },
     "execution_count": 33,
     "metadata": {},
     "output_type": "execute_result"
    }
   ],
   "source": [
    "encoder=LabelEncoder()\n",
    "Weather_Condition=encoder.fit_transform(df[['Weather Condition']])\n",
    "Weather_encod=pd.DataFrame({\"Weather_Condition\":Weather_Condition})\n",
    "Weather_encod.head()"
   ]
  },
  {
   "cell_type": "code",
   "execution_count": 32,
   "id": "6bf8a43c-eb10-4d18-94fa-183fe7daff3c",
   "metadata": {},
   "outputs": [
    {
     "name": "stderr",
     "output_type": "stream",
     "text": [
      "/opt/conda/lib/python3.10/site-packages/sklearn/preprocessing/_label.py:116: DataConversionWarning: A column-vector y was passed when a 1d array was expected. Please change the shape of y to (n_samples, ), for example using ravel().\n",
      "  y = column_or_1d(y, warn=True)\n"
     ]
    },
    {
     "data": {
      "text/html": [
       "<div>\n",
       "<style scoped>\n",
       "    .dataframe tbody tr th:only-of-type {\n",
       "        vertical-align: middle;\n",
       "    }\n",
       "\n",
       "    .dataframe tbody tr th {\n",
       "        vertical-align: top;\n",
       "    }\n",
       "\n",
       "    .dataframe thead th {\n",
       "        text-align: right;\n",
       "    }\n",
       "</style>\n",
       "<table border=\"1\" class=\"dataframe\">\n",
       "  <thead>\n",
       "    <tr style=\"text-align: right;\">\n",
       "      <th></th>\n",
       "      <th>Wind_Direction</th>\n",
       "    </tr>\n",
       "  </thead>\n",
       "  <tbody>\n",
       "    <tr>\n",
       "      <th>0</th>\n",
       "      <td>1</td>\n",
       "    </tr>\n",
       "    <tr>\n",
       "      <th>1</th>\n",
       "      <td>2</td>\n",
       "    </tr>\n",
       "    <tr>\n",
       "      <th>2</th>\n",
       "      <td>0</td>\n",
       "    </tr>\n",
       "    <tr>\n",
       "      <th>3</th>\n",
       "      <td>3</td>\n",
       "    </tr>\n",
       "    <tr>\n",
       "      <th>4</th>\n",
       "      <td>1</td>\n",
       "    </tr>\n",
       "  </tbody>\n",
       "</table>\n",
       "</div>"
      ],
      "text/plain": [
       "   Wind_Direction\n",
       "0               1\n",
       "1               2\n",
       "2               0\n",
       "3               3\n",
       "4               1"
      ]
     },
     "execution_count": 32,
     "metadata": {},
     "output_type": "execute_result"
    }
   ],
   "source": [
    "encoder=LabelEncoder()\n",
    "Wind_Direction=encoder.fit_transform(df[['Wind Direction']])\n",
    "Wind_encod=pd.DataFrame({\"Wind_Direction\":Wind_Direction})\n",
    "Wind_encod.head()"
   ]
  },
  {
   "cell_type": "code",
   "execution_count": 35,
   "id": "586dbaba-b854-46cd-bacb-40afb3392f71",
   "metadata": {},
   "outputs": [],
   "source": [
    "df['Weather_encod']=Weather_encod"
   ]
  },
  {
   "cell_type": "code",
   "execution_count": 36,
   "id": "b15c0029-66f2-4d0a-9919-492dc215a7e9",
   "metadata": {},
   "outputs": [],
   "source": [
    "df[',Wind_encod']=Wind_encod"
   ]
  },
  {
   "cell_type": "code",
   "execution_count": 37,
   "id": "d58d4d32-3390-4d79-9ee5-127ed5b06889",
   "metadata": {},
   "outputs": [
    {
     "data": {
      "text/html": [
       "<div>\n",
       "<style scoped>\n",
       "    .dataframe tbody tr th:only-of-type {\n",
       "        vertical-align: middle;\n",
       "    }\n",
       "\n",
       "    .dataframe tbody tr th {\n",
       "        vertical-align: top;\n",
       "    }\n",
       "\n",
       "    .dataframe thead th {\n",
       "        text-align: right;\n",
       "    }\n",
       "</style>\n",
       "<table border=\"1\" class=\"dataframe\">\n",
       "  <thead>\n",
       "    <tr style=\"text-align: right;\">\n",
       "      <th></th>\n",
       "      <th>Temperature</th>\n",
       "      <th>Humidity</th>\n",
       "      <th>Weather Condition</th>\n",
       "      <th>Wind Direction</th>\n",
       "      <th>Weather_encod</th>\n",
       "      <th>,Wind_encod</th>\n",
       "    </tr>\n",
       "  </thead>\n",
       "  <tbody>\n",
       "    <tr>\n",
       "      <th>0</th>\n",
       "      <td>25</td>\n",
       "      <td>60</td>\n",
       "      <td>Sunny</td>\n",
       "      <td>North</td>\n",
       "      <td>2</td>\n",
       "      <td>1</td>\n",
       "    </tr>\n",
       "    <tr>\n",
       "      <th>1</th>\n",
       "      <td>20</td>\n",
       "      <td>75</td>\n",
       "      <td>Cloudy</td>\n",
       "      <td>South</td>\n",
       "      <td>0</td>\n",
       "      <td>2</td>\n",
       "    </tr>\n",
       "    <tr>\n",
       "      <th>2</th>\n",
       "      <td>22</td>\n",
       "      <td>70</td>\n",
       "      <td>Sunny</td>\n",
       "      <td>East</td>\n",
       "      <td>2</td>\n",
       "      <td>0</td>\n",
       "    </tr>\n",
       "    <tr>\n",
       "      <th>3</th>\n",
       "      <td>28</td>\n",
       "      <td>50</td>\n",
       "      <td>Rainy</td>\n",
       "      <td>West</td>\n",
       "      <td>1</td>\n",
       "      <td>3</td>\n",
       "    </tr>\n",
       "    <tr>\n",
       "      <th>4</th>\n",
       "      <td>24</td>\n",
       "      <td>65</td>\n",
       "      <td>Cloudy</td>\n",
       "      <td>North</td>\n",
       "      <td>0</td>\n",
       "      <td>1</td>\n",
       "    </tr>\n",
       "  </tbody>\n",
       "</table>\n",
       "</div>"
      ],
      "text/plain": [
       "   Temperature  Humidity Weather Condition Wind Direction  Weather_encod  \\\n",
       "0           25        60             Sunny          North              2   \n",
       "1           20        75            Cloudy          South              0   \n",
       "2           22        70             Sunny           East              2   \n",
       "3           28        50             Rainy           West              1   \n",
       "4           24        65            Cloudy          North              0   \n",
       "\n",
       "   ,Wind_encod  \n",
       "0            1  \n",
       "1            2  \n",
       "2            0  \n",
       "3            3  \n",
       "4            1  "
      ]
     },
     "execution_count": 37,
     "metadata": {},
     "output_type": "execute_result"
    }
   ],
   "source": [
    "df.head()"
   ]
  },
  {
   "cell_type": "code",
   "execution_count": 42,
   "id": "80bd0bbe-a2a9-4c2a-ace6-b4874e1fd436",
   "metadata": {},
   "outputs": [
    {
     "data": {
      "text/html": [
       "<div>\n",
       "<style scoped>\n",
       "    .dataframe tbody tr th:only-of-type {\n",
       "        vertical-align: middle;\n",
       "    }\n",
       "\n",
       "    .dataframe tbody tr th {\n",
       "        vertical-align: top;\n",
       "    }\n",
       "\n",
       "    .dataframe thead th {\n",
       "        text-align: right;\n",
       "    }\n",
       "</style>\n",
       "<table border=\"1\" class=\"dataframe\">\n",
       "  <thead>\n",
       "    <tr style=\"text-align: right;\">\n",
       "      <th></th>\n",
       "      <th>Temperature</th>\n",
       "      <th>Humidity</th>\n",
       "      <th>Weather_encod</th>\n",
       "      <th>,Wind_encod</th>\n",
       "    </tr>\n",
       "  </thead>\n",
       "  <tbody>\n",
       "    <tr>\n",
       "      <th>0</th>\n",
       "      <td>25</td>\n",
       "      <td>60</td>\n",
       "      <td>2</td>\n",
       "      <td>1</td>\n",
       "    </tr>\n",
       "    <tr>\n",
       "      <th>1</th>\n",
       "      <td>20</td>\n",
       "      <td>75</td>\n",
       "      <td>0</td>\n",
       "      <td>2</td>\n",
       "    </tr>\n",
       "    <tr>\n",
       "      <th>2</th>\n",
       "      <td>22</td>\n",
       "      <td>70</td>\n",
       "      <td>2</td>\n",
       "      <td>0</td>\n",
       "    </tr>\n",
       "    <tr>\n",
       "      <th>3</th>\n",
       "      <td>28</td>\n",
       "      <td>50</td>\n",
       "      <td>1</td>\n",
       "      <td>3</td>\n",
       "    </tr>\n",
       "    <tr>\n",
       "      <th>4</th>\n",
       "      <td>24</td>\n",
       "      <td>65</td>\n",
       "      <td>0</td>\n",
       "      <td>1</td>\n",
       "    </tr>\n",
       "  </tbody>\n",
       "</table>\n",
       "</div>"
      ],
      "text/plain": [
       "   Temperature  Humidity  Weather_encod  ,Wind_encod\n",
       "0           25        60              2            1\n",
       "1           20        75              0            2\n",
       "2           22        70              2            0\n",
       "3           28        50              1            3\n",
       "4           24        65              0            1"
      ]
     },
     "execution_count": 42,
     "metadata": {},
     "output_type": "execute_result"
    }
   ],
   "source": [
    "df.drop(['Weather Condition','Wind Direction'],axis=1)"
   ]
  },
  {
   "cell_type": "code",
   "execution_count": 43,
   "id": "79d0eada-6435-40e8-8322-c3a5a1a42381",
   "metadata": {},
   "outputs": [
    {
     "name": "stderr",
     "output_type": "stream",
     "text": [
      "/tmp/ipykernel_2267/1545644723.py:1: FutureWarning: The default value of numeric_only in DataFrame.cov is deprecated. In a future version, it will default to False. Select only valid columns or specify the value of numeric_only to silence this warning.\n",
      "  df.cov()\n"
     ]
    },
    {
     "data": {
      "text/html": [
       "<div>\n",
       "<style scoped>\n",
       "    .dataframe tbody tr th:only-of-type {\n",
       "        vertical-align: middle;\n",
       "    }\n",
       "\n",
       "    .dataframe tbody tr th {\n",
       "        vertical-align: top;\n",
       "    }\n",
       "\n",
       "    .dataframe thead th {\n",
       "        text-align: right;\n",
       "    }\n",
       "</style>\n",
       "<table border=\"1\" class=\"dataframe\">\n",
       "  <thead>\n",
       "    <tr style=\"text-align: right;\">\n",
       "      <th></th>\n",
       "      <th>Temperature</th>\n",
       "      <th>Humidity</th>\n",
       "      <th>Weather_encod</th>\n",
       "      <th>,Wind_encod</th>\n",
       "    </tr>\n",
       "  </thead>\n",
       "  <tbody>\n",
       "    <tr>\n",
       "      <th>Temperature</th>\n",
       "      <td>9.20</td>\n",
       "      <td>-29.00</td>\n",
       "      <td>0.75</td>\n",
       "      <td>1.60</td>\n",
       "    </tr>\n",
       "    <tr>\n",
       "      <th>Humidity</th>\n",
       "      <td>-29.00</td>\n",
       "      <td>92.50</td>\n",
       "      <td>-2.50</td>\n",
       "      <td>-5.75</td>\n",
       "    </tr>\n",
       "    <tr>\n",
       "      <th>Weather_encod</th>\n",
       "      <td>0.75</td>\n",
       "      <td>-2.50</td>\n",
       "      <td>1.00</td>\n",
       "      <td>-0.50</td>\n",
       "    </tr>\n",
       "    <tr>\n",
       "      <th>,Wind_encod</th>\n",
       "      <td>1.60</td>\n",
       "      <td>-5.75</td>\n",
       "      <td>-0.50</td>\n",
       "      <td>1.30</td>\n",
       "    </tr>\n",
       "  </tbody>\n",
       "</table>\n",
       "</div>"
      ],
      "text/plain": [
       "               Temperature  Humidity  Weather_encod  ,Wind_encod\n",
       "Temperature           9.20    -29.00           0.75         1.60\n",
       "Humidity            -29.00     92.50          -2.50        -5.75\n",
       "Weather_encod         0.75     -2.50           1.00        -0.50\n",
       ",Wind_encod           1.60     -5.75          -0.50         1.30"
      ]
     },
     "execution_count": 43,
     "metadata": {},
     "output_type": "execute_result"
    }
   ],
   "source": [
    "df.cov()"
   ]
  },
  {
   "cell_type": "markdown",
   "id": "4d148cd9-094b-4c60-9359-c857608e2a3d",
   "metadata": {},
   "source": [
    "Two variable are in the categorical formate so first need to encode the values then we can find the covarince betwwn them"
   ]
  },
  {
   "cell_type": "code",
   "execution_count": null,
   "id": "b0273621-95ee-4d53-905e-38c05c454948",
   "metadata": {},
   "outputs": [],
   "source": []
  },
  {
   "cell_type": "code",
   "execution_count": null,
   "id": "10b58c18-0c43-492a-9af1-9ec8b77b09b6",
   "metadata": {},
   "outputs": [],
   "source": []
  },
  {
   "cell_type": "code",
   "execution_count": null,
   "id": "523b133d-691d-43db-83f7-a0ec331ae286",
   "metadata": {},
   "outputs": [],
   "source": []
  },
  {
   "cell_type": "code",
   "execution_count": null,
   "id": "2d2a4164-ad51-4d7c-aad7-42bfa215108f",
   "metadata": {},
   "outputs": [],
   "source": []
  },
  {
   "cell_type": "code",
   "execution_count": null,
   "id": "378704ff-39d6-4f3a-b634-2ebf768f7275",
   "metadata": {},
   "outputs": [],
   "source": []
  }
 ],
 "metadata": {
  "kernelspec": {
   "display_name": "Python 3 (ipykernel)",
   "language": "python",
   "name": "python3"
  },
  "language_info": {
   "codemirror_mode": {
    "name": "ipython",
    "version": 3
   },
   "file_extension": ".py",
   "mimetype": "text/x-python",
   "name": "python",
   "nbconvert_exporter": "python",
   "pygments_lexer": "ipython3",
   "version": "3.10.8"
  }
 },
 "nbformat": 4,
 "nbformat_minor": 5
}
